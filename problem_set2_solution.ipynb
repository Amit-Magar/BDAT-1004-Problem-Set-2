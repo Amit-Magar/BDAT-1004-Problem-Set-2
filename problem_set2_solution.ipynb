{
 "cells": [
  {
   "cell_type": "markdown",
   "metadata": {},
   "source": [
    "## Question 1 \n"
   ]
  },
  {
   "cell_type": "code",
   "execution_count": 2,
   "metadata": {},
   "outputs": [],
   "source": [
    "a=0\n",
    "def b():\n",
    "    global a\n",
    "    a=c(a)\n",
    "    print(a)\n",
    "\n",
    "def c(a):\n",
    "    return a+2\n"
   ]
  },
  {
   "cell_type": "code",
   "execution_count": 20,
   "metadata": {},
   "outputs": [
    {
     "name": "stdout",
     "output_type": "stream",
     "text": [
      "2\n"
     ]
    }
   ],
   "source": [
    "b()"
   ]
  },
  {
   "cell_type": "code",
   "execution_count": 21,
   "metadata": {},
   "outputs": [
    {
     "name": "stdout",
     "output_type": "stream",
     "text": [
      "4\n"
     ]
    }
   ],
   "source": [
    "b()"
   ]
  },
  {
   "cell_type": "code",
   "execution_count": 22,
   "metadata": {},
   "outputs": [
    {
     "name": "stdout",
     "output_type": "stream",
     "text": [
      "6\n"
     ]
    }
   ],
   "source": [
    "b()"
   ]
  },
  {
   "cell_type": "code",
   "execution_count": 23,
   "metadata": {},
   "outputs": [
    {
     "data": {
      "text/plain": [
       "6"
      ]
     },
     "execution_count": 23,
     "metadata": {},
     "output_type": "execute_result"
    }
   ],
   "source": [
    "a"
   ]
  },
  {
   "cell_type": "markdown",
   "metadata": {},
   "source": [
    "\n",
    "1. `a = 0`: This line initializes a global variable named `a` with an initial value of 0. \n",
    "\n",
    "2. `def b():`: This defines a function called `b`.\n",
    "\n",
    "3. `global a`: Inside the `b` function, the `global` keyword is used to declare that the function intends to modify the global variable `a`.\n",
    "\n",
    "4. `a = c(a)`: Inside the `b` function, this line invokes the function `c` and assigns the result of `c(a)` to the global variable `a`.\n",
    "\n",
    "5. `def c(a):`: This defines a function named `c` that takes a parameter `a`.\n",
    "\n",
    "6. `return a + 2`: Inside the `c` function, it takes the input `a`, adds 2 to it, and returns the result.\n",
    "\n",
    "Now, let's analyze the behavior when the provided commands are executed:\n",
    "\n",
    "1. `b()`: The `b` function is called, which, in turn, calls the `c` function with the current value of `a` (initially 0), adds 2 to it, and assigns the resulting value (2) back to the global variable `a`.\n",
    "\n",
    "2. `b()`: The `b` function is called again, and similarly, the `c` function is invoked with the current value of `a` (2). It adds 2 to it and assigns the new result (4) to the global variable `a`.\n",
    "\n",
    "3. `b()`: Once more, the `b` function is called, invoking the `c` function with the current value of `a` (4), adding 2 to it, and assigning the updated result (6) to the global variable `a`.\n",
    "\n",
    "So, by repeatedly calling the function `b()`, the global variable `a` acts as a counter that increments by 2 each time the function is called. Therefore, when you evaluate `a`, it will display the current value of the global variable, which is 6. In a professional context, this code illustrates how a global variable can be modified within a function, serving as a counter that increments by a specific value with each function call."
   ]
  },
  {
   "cell_type": "markdown",
   "metadata": {},
   "source": [
    "## Question 2  "
   ]
  },
  {
   "cell_type": "code",
   "execution_count": 36,
   "metadata": {},
   "outputs": [
    {
     "name": "stdout",
     "output_type": "stream",
     "text": [
      "123\n",
      "File Filelength1.txt not found.\n"
     ]
    }
   ],
   "source": [
    "def fileLength(fileName):\n",
    "    try:\n",
    "        with open(fileName, 'r') as file:\n",
    "            content_of_file = file.read()\n",
    "            length_of_file = len(content_of_file)\n",
    "            print(length_of_file)\n",
    "    except FileNotFoundError:\n",
    "        print(f\"File {fileName} not found.\")\n",
    "    except Exception as e:\n",
    "        print(f\"An error occurred: {str(e)}\")\n",
    "\n",
    "fileLength('Filelength.txt')\n",
    "fileLength('Filelength1.txt')\n"
   ]
  },
  {
   "cell_type": "markdown",
   "metadata": {},
   "source": [
    "## Question 3 "
   ]
  },
  {
   "cell_type": "code",
   "execution_count": 37,
   "metadata": {},
   "outputs": [
    {
     "name": "stdout",
     "output_type": "stream",
     "text": [
      "['doll', 'firetruck', 'kitten']\n",
      "I am a Kangaroo located at coordinates (0,0)\n",
      "['doll', 'firetruck', 'kitten']\n",
      "I am a Kangaroo located at coordinates (3,0)\n"
     ]
    }
   ],
   "source": [
    "class Marsupial:\n",
    "    def __init__(self):\n",
    "        self.pouch = []\n",
    "\n",
    "    def put_in_pouch(self, item):\n",
    "        self.pouch.append(item)\n",
    "\n",
    "    def pouch_contents(self):\n",
    "        return self.pouch\n",
    "\n",
    "class Kangaroo(Marsupial):\n",
    "    def __init__(self, x, y):\n",
    "        super().__init__()\n",
    "        self.x = x\n",
    "        self.y = y\n",
    "\n",
    "    def jump(self, dx, dy):\n",
    "        self.x += dx\n",
    "        self.y += dy\n",
    "\n",
    "    def __str__(self):\n",
    "        return f\"I am a Kangaroo located at coordinates ({self.x},{self.y})\"\n",
    "\n",
    "# Example usage:\n",
    "m = Marsupial()\n",
    "m.put_in_pouch('doll')\n",
    "m.put_in_pouch('firetruck')\n",
    "m.put_in_pouch('kitten')\n",
    "print(m.pouch_contents())\n",
    "\n",
    "k = Kangaroo(0, 0)\n",
    "print(k)\n",
    "k.put_in_pouch('doll')\n",
    "k.put_in_pouch('firetruck')\n",
    "k.put_in_pouch('kitten')\n",
    "print(k.pouch_contents())\n",
    "k.jump(1, 0)\n",
    "k.jump(1, 0)\n",
    "k.jump(1, 0)\n",
    "print(k)\n"
   ]
  },
  {
   "cell_type": "markdown",
   "metadata": {},
   "source": [
    "## Question 4 "
   ]
  },
  {
   "cell_type": "code",
   "execution_count": 38,
   "metadata": {},
   "outputs": [],
   "source": [
    "def collatz(x):\n",
    "    if x == 1:\n",
    "        return x\n",
    "    else:\n",
    "        print(x)\n",
    "        if (x % 2 == 0):\n",
    "            return collatz(x//2)\n",
    "        else:\n",
    "            return collatz(3*x+1)"
   ]
  },
  {
   "cell_type": "code",
   "execution_count": 39,
   "metadata": {},
   "outputs": [
    {
     "data": {
      "text/plain": [
       "1"
      ]
     },
     "execution_count": 39,
     "metadata": {},
     "output_type": "execute_result"
    }
   ],
   "source": [
    "collatz(1)"
   ]
  },
  {
   "cell_type": "code",
   "execution_count": 40,
   "metadata": {},
   "outputs": [
    {
     "name": "stdout",
     "output_type": "stream",
     "text": [
      "10\n",
      "5\n",
      "16\n",
      "8\n",
      "4\n",
      "2\n"
     ]
    },
    {
     "data": {
      "text/plain": [
       "1"
      ]
     },
     "execution_count": 40,
     "metadata": {},
     "output_type": "execute_result"
    }
   ],
   "source": [
    "collatz(10)"
   ]
  },
  {
   "cell_type": "markdown",
   "metadata": {},
   "source": [
    "## Question 5 "
   ]
  },
  {
   "cell_type": "code",
   "execution_count": 41,
   "metadata": {},
   "outputs": [],
   "source": [
    "def binary(n):\n",
    "    if n > 1:  #  base condition\n",
    "        binary(n // 2)\n",
    "    print(n % 2, end='')\n"
   ]
  },
  {
   "cell_type": "code",
   "execution_count": 42,
   "metadata": {},
   "outputs": [
    {
     "name": "stdout",
     "output_type": "stream",
     "text": [
      "0"
     ]
    }
   ],
   "source": [
    "binary(0)"
   ]
  },
  {
   "cell_type": "code",
   "execution_count": 43,
   "metadata": {},
   "outputs": [
    {
     "name": "stdout",
     "output_type": "stream",
     "text": [
      "1"
     ]
    }
   ],
   "source": [
    "binary(1)"
   ]
  },
  {
   "cell_type": "code",
   "execution_count": 44,
   "metadata": {},
   "outputs": [
    {
     "name": "stdout",
     "output_type": "stream",
     "text": [
      "11"
     ]
    }
   ],
   "source": [
    "binary(3)"
   ]
  },
  {
   "cell_type": "code",
   "execution_count": 45,
   "metadata": {},
   "outputs": [
    {
     "name": "stdout",
     "output_type": "stream",
     "text": [
      "1001"
     ]
    }
   ],
   "source": [
    "binary(9)"
   ]
  },
  {
   "cell_type": "markdown",
   "metadata": {},
   "source": [
    "## Question 6\n",
    "\n",
    "Write SQL queries on the below database table that return: \n",
    "\n",
    "a) All the temperature data. <br>\n",
    "b) All the cities, but without repetition.<br> \n",
    "c) All the records for India. <br>\n",
    "d) All the Fall records.<br>\n",
    "e) The city, country, and season for which the average rainfall is between 200 \n",
    "and 400 millimeters. <br>\n",
    "f) The city and country for which the average Fall temperature is above 20 \n",
    "degrees, in increasing temperature order. <br> \n",
    "g) The total annual rainfall for Cairo. <br>\n",
    "h) The total rainfall for each season."
   ]
  },
  {
   "cell_type": "code",
   "execution_count": 46,
   "metadata": {},
   "outputs": [],
   "source": [
    "import sqlite3\n",
    "\n",
    "# Create a connection to the SQLite database (or create one if it doesn't exist)\n",
    "conn = sqlite3.connect('Amit_Magar.db')\n",
    "\n",
    "# Create a cursor object to interact with the database\n",
    "cursor = conn.cursor()\n",
    "\n",
    "cursor.execute(\"DROP TABLE IF EXISTS weather_data\")\n",
    "\n",
    "# Define the SQL CREATE TABLE statement to create the table\n",
    "table = \"\"\"CREATE TABLE weather_data (\n",
    "    City TEXT,\n",
    "    Country TEXT,\n",
    "    Season TEXT,\n",
    "    Temperature REAL,\n",
    "    Rainfall REAL\n",
    ");\"\"\"\n",
    "\n",
    "cursor.execute(table)\n",
    "\n",
    "# Define the SQL INSERT statement\n",
    "weatherData = \"\"\"\n",
    "INSERT INTO weather_data (City, Country, Season, Temperature, Rainfall)\n",
    "VALUES\n",
    "  ('Mumbai', 'India', 'Winter', 24.8, 5.9),\n",
    "  ('Mumbai', 'India', 'Spring', 28.4, 16.2),\n",
    "  ('Mumbai', 'India', 'Summer', 27.9, 1549.4),\n",
    "  ('Mumbai', 'India', 'Fall', 27.6, 346.0),\n",
    "  ('London', 'United Kingdom', 'Winter', 4.2, 207.7),\n",
    "  ('London', 'United Kingdom', 'Spring', 8.3, 169.6),\n",
    "  ('London', 'United Kingdom', 'Summer', 15.7, 157.0),\n",
    "  ('London', 'United Kingdom', 'Fall', 10.4, 218.5),\n",
    "  ('Cairo', 'Egypt', 'Winter', 13.6, 16.5),\n",
    "  ('Cairo', 'Egypt', 'Spring', 20.7, 6.5),\n",
    "  ('Cairo', 'Egypt', 'Summer', 27.7, 0.1),\n",
    "  ('Cairo', 'Egypt', 'Fall', 22.2, 4.5);\n",
    "\"\"\"\n",
    "\n",
    "# Execute the INSERT statement\n",
    "cursor.executescript(weatherData)\n",
    "\n",
    "# Commit the changes to the database\n",
    "conn.commit()\n",
    "\n",
    "# Close the connection\n",
    "conn.close()\n"
   ]
  },
  {
   "cell_type": "code",
   "execution_count": 47,
   "metadata": {},
   "outputs": [
    {
     "name": "stdout",
     "output_type": "stream",
     "text": [
      "('Mumbai', 'India', 'Winter', 24.8, 5.9)\n",
      "('Mumbai', 'India', 'Spring', 28.4, 16.2)\n",
      "('Mumbai', 'India', 'Summer', 27.9, 1549.4)\n",
      "('Mumbai', 'India', 'Fall', 27.6, 346.0)\n",
      "('London', 'United Kingdom', 'Winter', 4.2, 207.7)\n",
      "('London', 'United Kingdom', 'Spring', 8.3, 169.6)\n",
      "('London', 'United Kingdom', 'Summer', 15.7, 157.0)\n",
      "('London', 'United Kingdom', 'Fall', 10.4, 218.5)\n",
      "('Cairo', 'Egypt', 'Winter', 13.6, 16.5)\n",
      "('Cairo', 'Egypt', 'Spring', 20.7, 6.5)\n",
      "('Cairo', 'Egypt', 'Summer', 27.7, 0.1)\n",
      "('Cairo', 'Egypt', 'Fall', 22.2, 4.5)\n"
     ]
    }
   ],
   "source": [
    "# Create a connection to the SQLite database\n",
    "conn = sqlite3.connect('Amit_Magar.db')\n",
    "\n",
    "# Create a cursor object to interact with the database\n",
    "cursor = conn.cursor()\n",
    "\n",
    "cursor.execute(\"\"\"Select * from weather_data \"\"\")\n",
    "\n",
    "rows = cursor.fetchall()\n",
    "\n",
    "for row in rows:\n",
    "    print(row)\n",
    "\n",
    "conn.close()"
   ]
  },
  {
   "cell_type": "code",
   "execution_count": 48,
   "metadata": {},
   "outputs": [],
   "source": [
    "# Create a connection to the SQLite database\n",
    "conn = sqlite3.connect('Amit_Magar.db')\n",
    "\n",
    "# Create a cursor object to interact with the database\n",
    "cursor_a = conn.cursor()\n",
    "cursor_b = conn.cursor()\n",
    "cursor_c = conn.cursor()\n",
    "cursor_d = conn.cursor()\n",
    "cursor_e = conn.cursor()\n",
    "cursor_f = conn.cursor()\n",
    "cursor_g = conn.cursor()\n",
    "cursor_h = conn.cursor()\n",
    "\n",
    "\n",
    "cursor_a.execute(\"\"\"Select Temperature \n",
    "                    FROM weather_data\n",
    "                 \"\"\")\n",
    "\n",
    "cursor_b.execute(\"\"\"SELECT DISTINCT City \n",
    "                    FROM weather_data\n",
    "                 \"\"\")\n",
    "\n",
    "cursor_c.execute(\"\"\"SELECT * \n",
    "                    FROM weather_data \n",
    "                    WHERE Country = 'India'\n",
    "                 \"\"\")\n",
    "\n",
    "cursor_d.execute(\"\"\"SELECT *  \n",
    "                    FROM weather_data \n",
    "                    WHERE Season = 'Fall'\n",
    "                 \"\"\")\n",
    "\n",
    "\n",
    "cursor_e.execute(\"\"\"SELECT City \n",
    "                          ,Country \n",
    "                          ,Season \n",
    "                    FROM weather_data\n",
    "                    GROUP BY City, Country, Season \n",
    "                    HAVING AVG(Rainfall) BETWEEN 200 AND 400\n",
    "                 \"\"\")\n",
    "\n",
    "cursor_f.execute(\"\"\"SELECT City\n",
    "                          ,Country\n",
    "                    FROM weather_data\n",
    "                    WHERE Season = 'Fall'\n",
    "                    GROUP BY City, Country\n",
    "                    HAVING AVG(Temperature) > 20\n",
    "                    ORDER BY AVG(Temperature) ASC\n",
    "                 \"\"\")\n",
    "\n",
    "cursor_g.execute(\"\"\"SELECT SUM(Rainfall) AS TotalRainfall\n",
    "                    FROM weather_data\n",
    "                    WHERE City = 'Cairo'\n",
    "                 \"\"\")\n",
    "\n",
    "cursor_h.execute(\"\"\"SELECT Season, SUM(Rainfall) AS TotalRainfall\n",
    "                    FROM weather_data\n",
    "                    GROUP BY Season\n",
    "                \"\"\")\n",
    "\n",
    "\n",
    "rows_a = cursor_a.fetchall()\n",
    "rows_b = cursor_b.fetchall()\n",
    "rows_c = cursor_c.fetchall()\n",
    "rows_d = cursor_d.fetchall()\n",
    "rows_e = cursor_e.fetchall()\n",
    "rows_f = cursor_f.fetchall()\n",
    "rows_g = cursor_g.fetchall()\n",
    "rows_h = cursor_h.fetchall()\n",
    "\n",
    "conn.close()"
   ]
  },
  {
   "cell_type": "code",
   "execution_count": 49,
   "metadata": {},
   "outputs": [
    {
     "name": "stdout",
     "output_type": "stream",
     "text": [
      "a. All the temperature data.\n",
      "\n",
      "(24.8,)\n",
      "(28.4,)\n",
      "(27.9,)\n",
      "(27.6,)\n",
      "(4.2,)\n",
      "(8.3,)\n",
      "(15.7,)\n",
      "(10.4,)\n",
      "(13.6,)\n",
      "(20.7,)\n",
      "(27.7,)\n",
      "(22.2,)\n"
     ]
    }
   ],
   "source": [
    "print(\"a. All the temperature data.\\n\")\n",
    "for row in rows_a:\n",
    "    print(row)"
   ]
  },
  {
   "cell_type": "code",
   "execution_count": 50,
   "metadata": {},
   "outputs": [
    {
     "name": "stdout",
     "output_type": "stream",
     "text": [
      "b. All the cities, but without repetition.\n",
      "\n",
      "('Mumbai',)\n",
      "('London',)\n",
      "('Cairo',)\n"
     ]
    }
   ],
   "source": [
    "print(\"b. All the cities, but without repetition.\\n\")\n",
    "for row in rows_b:\n",
    "    print(row)"
   ]
  },
  {
   "cell_type": "code",
   "execution_count": 51,
   "metadata": {},
   "outputs": [
    {
     "name": "stdout",
     "output_type": "stream",
     "text": [
      "c. All the records for India.\n",
      "\n",
      "('Mumbai', 'India', 'Winter', 24.8, 5.9)\n",
      "('Mumbai', 'India', 'Spring', 28.4, 16.2)\n",
      "('Mumbai', 'India', 'Summer', 27.9, 1549.4)\n",
      "('Mumbai', 'India', 'Fall', 27.6, 346.0)\n"
     ]
    }
   ],
   "source": [
    "print(\"c. All the records for India.\\n\")\n",
    "for row in rows_c:\n",
    "    print(row)"
   ]
  },
  {
   "cell_type": "code",
   "execution_count": 52,
   "metadata": {},
   "outputs": [
    {
     "name": "stdout",
     "output_type": "stream",
     "text": [
      "d. All the Fall records.\n",
      "\n",
      "('Mumbai', 'India', 'Fall', 27.6, 346.0)\n",
      "('London', 'United Kingdom', 'Fall', 10.4, 218.5)\n",
      "('Cairo', 'Egypt', 'Fall', 22.2, 4.5)\n"
     ]
    }
   ],
   "source": [
    "print(\"d. All the Fall records.\\n\")\n",
    "for row in rows_d:\n",
    "    print(row)"
   ]
  },
  {
   "cell_type": "code",
   "execution_count": 53,
   "metadata": {},
   "outputs": [
    {
     "name": "stdout",
     "output_type": "stream",
     "text": [
      "e. The city, country, and season for which the average rainfall is between 200 and 400 millimeters.\n",
      "\n",
      "('London', 'United Kingdom', 'Fall')\n",
      "('London', 'United Kingdom', 'Winter')\n",
      "('Mumbai', 'India', 'Fall')\n"
     ]
    }
   ],
   "source": [
    "print(\"e. The city, country, and season for which the average rainfall is between 200 and 400 millimeters.\\n\")\n",
    "for row in rows_e:\n",
    "    print(row)"
   ]
  },
  {
   "cell_type": "code",
   "execution_count": 54,
   "metadata": {},
   "outputs": [
    {
     "name": "stdout",
     "output_type": "stream",
     "text": [
      "f. The city and country for which the average Fall temperature is above 20 degrees, in increasing temperature order\n",
      "\n",
      "('Cairo', 'Egypt')\n",
      "('Mumbai', 'India')\n"
     ]
    }
   ],
   "source": [
    "print(\"f. The city and country for which the average Fall temperature is above 20 degrees, in increasing temperature order\\n\")\n",
    "for row in rows_f:\n",
    "    print(row)"
   ]
  },
  {
   "cell_type": "code",
   "execution_count": 55,
   "metadata": {},
   "outputs": [
    {
     "name": "stdout",
     "output_type": "stream",
     "text": [
      "g. The total annual rainfall for Cairo\n",
      "\n",
      "(27.6,)\n"
     ]
    }
   ],
   "source": [
    "print(\"g. The total annual rainfall for Cairo\\n\")\n",
    "for row in rows_g:\n",
    "    print(row)"
   ]
  },
  {
   "cell_type": "code",
   "execution_count": 56,
   "metadata": {},
   "outputs": [
    {
     "name": "stdout",
     "output_type": "stream",
     "text": [
      "h. The total rainfall for each season.\n",
      "\n",
      "('Fall', 569.0)\n",
      "('Spring', 192.29999999999998)\n",
      "('Summer', 1706.5)\n",
      "('Winter', 230.1)\n"
     ]
    }
   ],
   "source": [
    "print(\"h. The total rainfall for each season.\\n\")\n",
    "for row in rows_h:\n",
    "    print(row)"
   ]
  },
  {
   "cell_type": "markdown",
   "metadata": {},
   "source": [
    "## Question 9"
   ]
  },
  {
   "cell_type": "code",
   "execution_count": 57,
   "metadata": {},
   "outputs": [],
   "source": [
    "words = ['The', 'quick', 'brown', 'fox', 'jumps', 'over', 'the', 'lazy', 'dog']"
   ]
  },
  {
   "cell_type": "code",
   "execution_count": 58,
   "metadata": {},
   "outputs": [
    {
     "name": "stdout",
     "output_type": "stream",
     "text": [
      "a. ['THE', 'QUICK', 'BROWN', 'FOX', 'JUMPS', 'OVER', 'THE', 'LAZY', 'DOG']\n"
     ]
    }
   ],
   "source": [
    "uppercase_words = [word.upper() for word in words]\n",
    "print(f\"a. {uppercase_words}\")"
   ]
  },
  {
   "cell_type": "code",
   "execution_count": 59,
   "metadata": {},
   "outputs": [
    {
     "name": "stdout",
     "output_type": "stream",
     "text": [
      "b. ['the', 'quick', 'brown', 'fox', 'jumps', 'over', 'the', 'lazy', 'dog']\n"
     ]
    }
   ],
   "source": [
    "lowercase_words = [word.lower() for word in words]\n",
    "print(f\"b. {lowercase_words}\")"
   ]
  },
  {
   "cell_type": "code",
   "execution_count": 60,
   "metadata": {},
   "outputs": [
    {
     "name": "stdout",
     "output_type": "stream",
     "text": [
      "c. [3, 5, 5, 3, 5, 4, 3, 4, 3]\n"
     ]
    }
   ],
   "source": [
    "word_lengths = [len(word) for word in words]\n",
    "print(f\"c. {word_lengths}\")"
   ]
  },
  {
   "cell_type": "code",
   "execution_count": 61,
   "metadata": {},
   "outputs": [
    {
     "name": "stdout",
     "output_type": "stream",
     "text": [
      "d. [['THE', 'the', 3], ['QUICK', 'quick', 5], ['BROWN', 'brown', 5], ['FOX', 'fox', 3], ['JUMPS', 'jumps', 5], ['OVER', 'over', 4], ['THE', 'the', 3], ['LAZY', 'lazy', 4], ['DOG', 'dog', 3]]\n"
     ]
    }
   ],
   "source": [
    "word_info = [[word.upper(), word.lower(), len(word)] for word in words]\n",
    "print(f\"d. {word_info}\")"
   ]
  },
  {
   "cell_type": "code",
   "execution_count": 62,
   "metadata": {},
   "outputs": [
    {
     "name": "stdout",
     "output_type": "stream",
     "text": [
      "e. ['quick', 'brown', 'jumps', 'over', 'lazy']\n"
     ]
    }
   ],
   "source": [
    "long_words = [word for word in words if len(word) >= 4]\n",
    "print(f\"e. {long_words}\")"
   ]
  },
  {
   "cell_type": "code",
   "execution_count": null,
   "metadata": {},
   "outputs": [],
   "source": []
  },
  {
   "cell_type": "code",
   "execution_count": null,
   "metadata": {},
   "outputs": [],
   "source": []
  }
 ],
 "metadata": {
  "kernelspec": {
   "display_name": "Python 3 (ipykernel)",
   "language": "python",
   "name": "python3"
  },
  "language_info": {
   "codemirror_mode": {
    "name": "ipython",
    "version": 3
   },
   "file_extension": ".py",
   "mimetype": "text/x-python",
   "name": "python",
   "nbconvert_exporter": "python",
   "pygments_lexer": "ipython3",
   "version": "3.11.4"
  }
 },
 "nbformat": 4,
 "nbformat_minor": 2
}
